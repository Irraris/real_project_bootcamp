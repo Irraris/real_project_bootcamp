{
 "cells": [
  {
   "cell_type": "code",
   "execution_count": 363,
   "id": "81759fee-2f0a-4a42-a261-b75b48acdba6",
   "metadata": {},
   "outputs": [],
   "source": [
    "import pandas as pd\n",
    "import numpy as np\n",
    "import matplotlib.pyplot as plt\n",
    "import seaborn as sns\n",
    "import re\n",
    "%matplotlib inline"
   ]
  },
  {
   "cell_type": "markdown",
   "id": "8193a7e4-d948-4c7a-b4da-80abe4529238",
   "metadata": {},
   "source": [
    "# Чтение файла"
   ]
  },
  {
   "cell_type": "code",
   "execution_count": 364,
   "id": "09060c62-6b46-4df8-9e09-1a5e004f8685",
   "metadata": {},
   "outputs": [],
   "source": [
    "df = pd.read_csv('/Users/teery/Downloads/_data.csv')\n",
    "df.drop('Unnamed: 0', axis=1, inplace=True)"
   ]
  },
  {
   "cell_type": "markdown",
   "id": "76e2ea17-a1e8-4b64-9ba9-78a68c6f02ea",
   "metadata": {},
   "source": [
    "## Создание 4х новых столбцов в новом датафрейме"
   ]
  },
  {
   "cell_type": "code",
   "execution_count": 365,
   "id": "19d71ca6-4c89-4526-897e-0699d52a47f0",
   "metadata": {},
   "outputs": [],
   "source": [
    "# Здесь мы создаем новый датафрейм, который содержит в себе цену , залог, предоплату в месяц и\n",
    "# наличие или отсутствие коммунальных платежей\n",
    "# Объединяем c основным датафреймом\n",
    "l = []\n",
    "for i in df['Цена']:\n",
    "    i = i.split()\n",
    "    l2 = []\n",
    "    price = int(float(i[0]))\n",
    "    l2.append(price)\n",
    "    if 'Залог' in i:\n",
    "        l2.append(True)\n",
    "    else:\n",
    "        l2.append(False)\n",
    "    if 'Предоплата' in i:\n",
    "        index_mounth = i.index('Предоплата')+1\n",
    "        l2.append(int(i[index_mounth]))\n",
    "    else:\n",
    "        l2.append(0)\n",
    "    if 'Коммунальные' and 'услуги' and 'включены,' in i:\n",
    "        l2.append(True)\n",
    "    else:\n",
    "        l2.append(False)\n",
    "            \n",
    "    l.append(l2)\n",
    "for i in l:\n",
    "    if len(i) > 4:\n",
    "        i.pop(1)\n",
    "col = ['Стоимость', 'Залог', 'Предоплата в мес', 'Коммунальные услуги включены']\n",
    "cost = pd.DataFrame(l, columns=col) \n",
    "real_cost = pd.concat([df, cost], axis=1)"
   ]
  },
  {
   "cell_type": "markdown",
   "id": "df102ec2-e1ad-49e5-848a-092885a0eeb9",
   "metadata": {},
   "source": [
    "## Создание датафреймов all_cities и Moscow"
   ]
  },
  {
   "cell_type": "code",
   "execution_count": 366,
   "id": "bcabea05-d786-40ab-aefe-b8c250efcad1",
   "metadata": {},
   "outputs": [],
   "source": [
    "# Этот блок кода помогает нам найти город, где выложено объявление\n",
    "# Так же здесь мы создаем датафрейм для всех городов и только для москвы\n",
    "l2=[]\n",
    "for i in real_cost['Адрес']:\n",
    "    i = i.split()\n",
    "    # print(i)\n",
    "    if 'Краснодарский' in i:\n",
    "        l2.append('Сочи')\n",
    "    else:\n",
    "        l2.append(i[0][:-1])\n",
    "\n",
    "cost2 = pd.DataFrame(l2, columns=['Город']) \n",
    "real_cost['Город'] = cost2['Город']\n",
    "all_cities = real_cost\n",
    "moscow = all_cities[all_cities['Город'] == 'Москва'].copy()"
   ]
  },
  {
   "cell_type": "markdown",
   "id": "d9e0b12a-81c8-4ddd-bec0-639d825c213a",
   "metadata": {},
   "source": [
    "### Количество комнат"
   ]
  },
  {
   "cell_type": "code",
   "execution_count": 367,
   "id": "ae4b79e4-4266-44f4-98b1-81ff872a3e14",
   "metadata": {},
   "outputs": [],
   "source": [
    "#Извлечем количество комнат из колонки \"Количество комнат\"\n",
    "moscow['Количество комнат'].dropna().apply(lambda x: x.split(', ')[0])\n",
    "moscow['Количество комнат'] = moscow['Количество комнат'].dropna().apply(lambda x: x.split(', ')[0])"
   ]
  },
  {
   "cell_type": "markdown",
   "id": "d09fc4cf-c3bc-45d2-82cf-791f32a391a8",
   "metadata": {},
   "source": [
    "### Метро"
   ]
  },
  {
   "cell_type": "code",
   "execution_count": 368,
   "id": "49a9d0f6-c7ca-431a-bc78-bd2f5e6fe5b1",
   "metadata": {},
   "outputs": [],
   "source": [
    "#Регулярное выражение, которое помогает нам найти станцию метро\n",
    "pattern = r\"м.\\s([^\\n(]+)\"\n",
    "moscow['Метро'] = moscow['Метро'].str.extract(pattern)"
   ]
  },
  {
   "cell_type": "code",
   "execution_count": 369,
   "id": "62b3173a-7fbc-4e50-979f-3717b771b58c",
   "metadata": {},
   "outputs": [],
   "source": [
    "# чистим Метро от нанов\n",
    "moscow['Метро'] = moscow['Метро'].fillna('Нет метро')"
   ]
  },
  {
   "cell_type": "markdown",
   "id": "b6f685fa-5aed-40a7-86e9-a67cb6a6ea1e",
   "metadata": {},
   "source": [
    "### Общая площадь"
   ]
  },
  {
   "cell_type": "code",
   "execution_count": 370,
   "id": "8885f80a-48c2-4d9b-92e4-9b1587281868",
   "metadata": {},
   "outputs": [],
   "source": [
    "# суммируем все чтобы получить общую площадь\n",
    "moscow['Площадь, м2'] = moscow['Площадь, м2'].dropna().apply(lambda x: x.split('/')[0])\n",
    "moscow['Площадь, м2'] = pd.to_numeric(moscow['Площадь, м2'])"
   ]
  },
  {
   "cell_type": "markdown",
   "id": "c84cd01e-a2cf-4b11-959a-1e17b28ed41b",
   "metadata": {},
   "source": [
    "### Парковка"
   ]
  },
  {
   "cell_type": "code",
   "execution_count": 371,
   "id": "c26ef293-0fdf-4b79-8a71-8e6487d08d36",
   "metadata": {},
   "outputs": [],
   "source": [
    "#Тут фильтруем парковку\n",
    "# Nan = отсутствие парковки\n",
    "# Наличие парковки = 1\n",
    "# Отсутствие парковки = 0\n",
    "moscow['Парковка'] = moscow['Парковка'].mask(moscow['Парковка'].notna(), 1).fillna(0)"
   ]
  },
  {
   "cell_type": "markdown",
   "id": "47c4d5e1-e60b-4a79-9aa2-feb7bc006b1d",
   "metadata": {},
   "source": [
    "### Ремонт"
   ]
  },
  {
   "cell_type": "code",
   "execution_count": 372,
   "id": "b64b10dc-6e37-4cac-ba0b-01519f148ff2",
   "metadata": {},
   "outputs": [],
   "source": [
    "# Тут фильтруем ремонт\n",
    "def fill_repair(row):\n",
    "    if pd.isnull(row['Ремонт']):\n",
    "        if row['Стоимость'] < 28000:\n",
    "            return 'Без ремонта'\n",
    "        elif 28000 <= row['Стоимость'] <= 50000:\n",
    "            return 'Косметический'\n",
    "        elif 50000 <= row['Стоимость'] <= 100000:\n",
    "            return 'Евроремонт'\n",
    "        return 'Дизайнерский'\n",
    "    return row['Ремонт']\n",
    "moscow['Ремонт'] = moscow.apply(fill_repair, axis=1)"
   ]
  },
  {
   "cell_type": "markdown",
   "id": "99a0688b-5bc1-4c4d-9e9f-3321e74f44d2",
   "metadata": {},
   "source": [
    "### Количество комнат"
   ]
  },
  {
   "cell_type": "code",
   "execution_count": 373,
   "id": "e747d509-f439-42ce-b291-4eb4110d0f3b",
   "metadata": {},
   "outputs": [
    {
     "data": {
      "image/png": "[encoded data removed]",
      "text/plain": [
       "<Figure size 640x480 with 1 Axes>"
      ]
     },
     "metadata": {},
     "output_type": "display_data"
    }
   ],
   "source": [
    "# построим график который показывает что максимальная площадь квартиры со значением NaN - 25m, значит это студии\n",
    "a1= moscow[['Площадь комнат, м2', 'Количество комнат']][moscow['Количество комнат'].isna() == True]\n",
    "a1['Площадь комнат, м2'] = a1['Площадь комнат, м2'].dropna()\n",
    "sns.histplot(data = a1, x='Площадь комнат, м2')\n",
    "plt.xticks(rotation=90, ha='right');"
   ]
  },
  {
   "cell_type": "code",
   "execution_count": 374,
   "id": "9665c100-ebb1-42f4-a356-833c1c7f17a0",
   "metadata": {},
   "outputs": [],
   "source": [
    "# заменим NaN на количество комнат 0\n",
    "moscow['Количество комнат'] = moscow['Количество комнат'].fillna(0)"
   ]
  },
  {
   "cell_type": "markdown",
   "id": "56e6ce0f-19f5-4285-b4b7-d26c27aedd80",
   "metadata": {},
   "source": [
    "### Окна"
   ]
  },
  {
   "cell_type": "code",
   "execution_count": 375,
   "id": "d057c64d-089a-4a8e-8c5a-ddbafa79405e",
   "metadata": {},
   "outputs": [],
   "source": [
    "# Сделав график мы убедились, что количество окон \"Во двор\" больше, чем всех остальных и пришли к выводу\n",
    "# что значения nan являются \"Во двор\"\n",
    "moscow[\"Окна\"] = moscow[\"Окна\"].fillna('Во двор')"
   ]
  },
  {
   "cell_type": "markdown",
   "id": "164f4d84-fb8e-4d8a-a7e4-05188d97285c",
   "metadata": {},
   "source": [
    "### Высота потолков"
   ]
  },
  {
   "cell_type": "code",
   "execution_count": 376,
   "id": "005e0d68-27e6-4fd3-bcbf-caaf1c72036b",
   "metadata": {},
   "outputs": [],
   "source": [
    "# Тут фильтруем высоту потолков\n",
    "a1 = moscow[['Высота потолков, м','Стоимость']]\n",
    "average = a1['Высота потолков, м'].dropna().mean()\n",
    "moscow.loc[moscow['Высота потолков, м'] > 6,'Высота потолков, м'] = np.nan\n",
    "moscow.loc[moscow['Высота потолков, м'].isna(), 'Высота потолков, м'] = average\n",
    "moscow['Высота потолков, м'] = moscow['Высота потолков, м'].apply(lambda x: round(x,2))"
   ]
  },
  {
   "cell_type": "markdown",
   "id": "75c2af6e-2869-4a1f-abd3-9aa00538c55c",
   "metadata": {},
   "source": [
    "### Можно с детьми/животными"
   ]
  },
  {
   "cell_type": "code",
   "execution_count": 377,
   "id": "cfba0e54-ec06-400e-bb58-c598b3bdd68b",
   "metadata": {},
   "outputs": [],
   "source": [
    "# Тут фильтруем 'Можно с детьми/животными'\n",
    "# Nan = Нельзя ни с кем\n",
    "# Можно с кем-то = 1\n",
    "# Нельзя ни с кем = 0\n",
    "moscow['Можно с детьми/животными'] = moscow['Можно с детьми/животными'].mask(moscow['Можно с детьми/животными'].notna(), 1).fillna(0)"
   ]
  },
  {
   "cell_type": "markdown",
   "id": "b8e1892d-326d-45b8-b848-a4a2d72e8581",
   "metadata": {},
   "source": [
    "### Дополнительно"
   ]
  },
  {
   "cell_type": "code",
   "execution_count": 378,
   "id": "4f504652-5872-4c61-9f59-66f90c6118ef",
   "metadata": {},
   "outputs": [],
   "source": [
    "#Тут замещаем \"дополнительно\"\n",
    "# Мы создали гистограмму среди значений, где \"дополнительно\" == nan, и получили статистику, что большинство кваритр\n",
    "# находятся в диапазоне 40-50к, т.к. в таком диапазоне находятся квартиры с косметическим ремонтом\n",
    "# мы можем найти самое популярное значение \"дополнительно\" в этих кваритрах(\"косметический ремонт\").\n",
    "# Получив моду \"дополнительно\" среди квартир с косметическим ремонтом мы присвоили это значение всем кто равен nan\n",
    "new = moscow['Дополнительно'].mode()[0]\n",
    "moscow['Дополнительно'].fillna(new, inplace=True)"
   ]
  },
  {
   "cell_type": "markdown",
   "id": "f8eef693-b161-4f7b-8474-4e8469033b65",
   "metadata": {},
   "source": [
    "### Мусоропровод"
   ]
  },
  {
   "cell_type": "code",
   "execution_count": 379,
   "id": "5b060d53-7730-4b66-929e-32584202bee0",
   "metadata": {},
   "outputs": [],
   "source": [
    "# Тут мы убираем nan из Мусоропровод\n",
    "# Было выявлено, что домов без мусоропровода сильно меньше, чем с ним. Этого быть не может и мы приняли решение\n",
    "# все nanы заменить на отсутствие мусоропровода т.к. человек, который не указывает его наличие явно\n",
    "# не знает о его существовании, либо не считает нужным указать его отсутсвие.\n",
    "# Как, возможно, будущие датаинжинеры мы приняли решение, что в данном пункте все наны будут считаться как отсутсвие\n",
    "moscow['Мусоропровод'] = moscow['Мусоропровод'].fillna(\"Нет\")"
   ]
  },
  {
   "cell_type": "markdown",
   "id": "7e1457cd-531a-4ce4-8d2c-9ee95bfa2420",
   "metadata": {},
   "source": [
    "### Удаление не нужных столбцов"
   ]
  },
  {
   "cell_type": "code",
   "execution_count": 380,
   "id": "38b10684-422b-4f4a-937d-95bcbce1fefd",
   "metadata": {},
   "outputs": [],
   "source": [
    "# Здесь мы удаляем Название ЖК и Серию дома\n",
    "# После тщательного анализа тех данных, которые содержатся в этих двух столбцах,\n",
    "# мы приняли решение их удалить т.к. они совсем не влияют на конечную цель, а быть может даже вредят\n",
    "# Ссылка на объявление и Площадь комнат нам не понадобятся т.к. ссылка неинформативна, а площадь комнат может запутать\n",
    "# и навредить, особенно, если у нас есть общая площадь квартиры\n",
    "moscow.drop(['Название ЖК', 'Серия дома', 'Ссылка на объявление', 'Площадь комнат, м2'], axis=1, inplace=True)"
   ]
  },
  {
   "cell_type": "markdown",
   "id": "1c2b4bae-162c-40f9-accb-a76e7bf35f30",
   "metadata": {},
   "source": [
    "### Санузел "
   ]
  },
  {
   "cell_type": "code",
   "execution_count": 381,
   "id": "46cf47dd-70f6-488b-b3a2-4204dbcedce2",
   "metadata": {},
   "outputs": [],
   "source": [
    "l = [x for x in moscow['Санузел']]\n",
    "median_c = []\n",
    "for i in range(len(l)):\n",
    "    cx = 0\n",
    "    if type(l[i]) == str:\n",
    "        for x in l[i]:\n",
    "            if x.isdigit():\n",
    "                cx += int(x)\n",
    "        l[i] = cx\n",
    "        median_c.append(cx)\n",
    "moscow['Санузел'] = l\n",
    "median = np.median(median_c)\n",
    "moscow['Санузел'].fillna(median, inplace=True)"
   ]
  },
  {
   "cell_type": "markdown",
   "id": "072137ba-c3b8-4453-8026-233114f25d09",
   "metadata": {},
   "source": [
    "### Балкон"
   ]
  },
  {
   "cell_type": "code",
   "execution_count": 382,
   "id": "f4b28c58-981d-466f-a981-388e06332287",
   "metadata": {},
   "outputs": [],
   "source": [
    "l = [x for x in moscow['Балкон']]\n",
    "median_c = []\n",
    "for i in range(len(l)):\n",
    "    cx = 0\n",
    "    if type(l[i]) == str:\n",
    "        for x in l[i]:\n",
    "            if x.isdigit():\n",
    "                cx += int(x)\n",
    "        l[i] = cx\n",
    "        median_c.append(cx)\n",
    "moscow['Балкон'] = l\n",
    "median = np.median(median_c)\n",
    "moscow['Балкон'].fillna(median, inplace=True)"
   ]
  },
  {
   "cell_type": "markdown",
   "id": "f79570ce-82a6-4b4e-98f2-58446781d63c",
   "metadata": {},
   "source": [
    "### Лифт"
   ]
  },
  {
   "cell_type": "code",
   "execution_count": 383,
   "id": "82458be8-ebee-4dd2-87a1-7cd94631919e",
   "metadata": {},
   "outputs": [],
   "source": [
    "l = [x for x in moscow['Лифт']]\n",
    "median_c = []\n",
    "for i in range(len(l)):\n",
    "    cx = 0\n",
    "    if type(l[i]) == str:\n",
    "        for x in l[i]:\n",
    "            if x.isdigit():\n",
    "                cx += int(x)\n",
    "        l[i] = cx\n",
    "        median_c.append(cx)\n",
    "moscow['Лифт'] = l\n",
    "median = np.median(median_c)\n",
    "moscow['Лифт'].fillna(median, inplace=True)"
   ]
  },
  {
   "cell_type": "markdown",
   "id": "d85b08cc-7ee4-4bf5-b874-00c224ad29db",
   "metadata": {},
   "source": [
    "### Меняем имена на английские"
   ]
  },
  {
   "cell_type": "code",
   "execution_count": 384,
   "id": "0f0e49bc-5537-4d3f-87ca-d8a271989820",
   "metadata": {},
   "outputs": [],
   "source": [
    "moscow.columns = ['id', 'count_rooms', 'type', 'subway', 'address', 'square_m2', 'building_type', 'parking', 'price', 'mobile_numbers',\\\n",
    "              'description', 'renovation', 'balcony', 'view_from_the_window', 'wc', 'with_children/animals', 'additionally',\\\n",
    "              'ceiling_height', 'elevator', 'trash_сhute', 'price_per_m', 'rent_deposit',\\\n",
    "              'prepayment_mounth', 'utilities','city_name']"
   ]
  },
  {
   "cell_type": "code",
   "execution_count": 389,
   "id": "efa13d54-a446-475e-abdd-fd2d84042dff",
   "metadata": {},
   "outputs": [
    {
     "data": {
      "text/html": [
       "<div>\n",
       "<style scoped>\n",
       "    .dataframe tbody tr th:only-of-type {\n",
       "        vertical-align: middle;\n",
       "    }\n",
       "\n",
       "    .dataframe tbody tr th {\n",
       "        vertical-align: top;\n",
       "    }\n",
       "\n",
       "    .dataframe thead th {\n",
       "        text-align: right;\n",
       "    }\n",
       "</style>\n",
       "<table border=\"1\" class=\"dataframe\">\n",
       "  <thead>\n",
       "    <tr style=\"text-align: right;\">\n",
       "      <th></th>\n",
       "      <th>id</th>\n",
       "      <th>square_m2</th>\n",
       "      <th>parking</th>\n",
       "      <th>balcony</th>\n",
       "      <th>wc</th>\n",
       "      <th>with_children/animals</th>\n",
       "      <th>ceiling_height</th>\n",
       "      <th>elevator</th>\n",
       "      <th>price_per_m</th>\n",
       "      <th>prepayment_mounth</th>\n",
       "    </tr>\n",
       "  </thead>\n",
       "  <tbody>\n",
       "    <tr>\n",
       "      <th>count</th>\n",
       "      <td>1.973700e+04</td>\n",
       "      <td>19737.000000</td>\n",
       "      <td>19737.000000</td>\n",
       "      <td>19737.000000</td>\n",
       "      <td>19737.000000</td>\n",
       "      <td>19737.000000</td>\n",
       "      <td>19737.000000</td>\n",
       "      <td>19737.000000</td>\n",
       "      <td>1.973700e+04</td>\n",
       "      <td>19737.000000</td>\n",
       "    </tr>\n",
       "    <tr>\n",
       "      <th>mean</th>\n",
       "      <td>2.671149e+08</td>\n",
       "      <td>63.564848</td>\n",
       "      <td>0.433855</td>\n",
       "      <td>1.099509</td>\n",
       "      <td>1.196585</td>\n",
       "      <td>0.750975</td>\n",
       "      <td>2.865657</td>\n",
       "      <td>2.003648</td>\n",
       "      <td>8.656385e+04</td>\n",
       "      <td>0.999797</td>\n",
       "    </tr>\n",
       "    <tr>\n",
       "      <th>std</th>\n",
       "      <td>1.980106e+07</td>\n",
       "      <td>47.944055</td>\n",
       "      <td>0.495618</td>\n",
       "      <td>0.346282</td>\n",
       "      <td>0.514644</td>\n",
       "      <td>0.432459</td>\n",
       "      <td>0.230754</td>\n",
       "      <td>0.876833</td>\n",
       "      <td>1.281483e+05</td>\n",
       "      <td>0.256057</td>\n",
       "    </tr>\n",
       "    <tr>\n",
       "      <th>min</th>\n",
       "      <td>1.072986e+08</td>\n",
       "      <td>7.000000</td>\n",
       "      <td>0.000000</td>\n",
       "      <td>1.000000</td>\n",
       "      <td>1.000000</td>\n",
       "      <td>0.000000</td>\n",
       "      <td>1.200000</td>\n",
       "      <td>1.000000</td>\n",
       "      <td>5.000000e+03</td>\n",
       "      <td>0.000000</td>\n",
       "    </tr>\n",
       "    <tr>\n",
       "      <th>25%</th>\n",
       "      <td>2.712212e+08</td>\n",
       "      <td>38.900000</td>\n",
       "      <td>0.000000</td>\n",
       "      <td>1.000000</td>\n",
       "      <td>1.000000</td>\n",
       "      <td>1.000000</td>\n",
       "      <td>2.640000</td>\n",
       "      <td>2.000000</td>\n",
       "      <td>3.999000e+04</td>\n",
       "      <td>1.000000</td>\n",
       "    </tr>\n",
       "    <tr>\n",
       "      <th>50%</th>\n",
       "      <td>2.739284e+08</td>\n",
       "      <td>49.800000</td>\n",
       "      <td>0.000000</td>\n",
       "      <td>1.000000</td>\n",
       "      <td>1.000000</td>\n",
       "      <td>1.000000</td>\n",
       "      <td>2.990000</td>\n",
       "      <td>2.000000</td>\n",
       "      <td>5.000000e+04</td>\n",
       "      <td>1.000000</td>\n",
       "    </tr>\n",
       "    <tr>\n",
       "      <th>75%</th>\n",
       "      <td>2.746973e+08</td>\n",
       "      <td>70.000000</td>\n",
       "      <td>1.000000</td>\n",
       "      <td>1.000000</td>\n",
       "      <td>1.000000</td>\n",
       "      <td>1.000000</td>\n",
       "      <td>2.990000</td>\n",
       "      <td>2.000000</td>\n",
       "      <td>7.500000e+04</td>\n",
       "      <td>1.000000</td>\n",
       "    </tr>\n",
       "    <tr>\n",
       "      <th>max</th>\n",
       "      <td>2.750064e+08</td>\n",
       "      <td>811.000000</td>\n",
       "      <td>1.000000</td>\n",
       "      <td>8.000000</td>\n",
       "      <td>6.000000</td>\n",
       "      <td>1.000000</td>\n",
       "      <td>6.000000</td>\n",
       "      <td>16.000000</td>\n",
       "      <td>3.000000e+06</td>\n",
       "      <td>12.000000</td>\n",
       "    </tr>\n",
       "  </tbody>\n",
       "</table>\n",
       "</div>"
      ],
      "text/plain": [
       "                 id     square_m2       parking       balcony            wc  \\\n",
       "count  1.973700e+04  19737.000000  19737.000000  19737.000000  19737.000000   \n",
       "mean   2.671149e+08     63.564848      0.433855      1.099509      1.196585   \n",
       "std    1.980106e+07     47.944055      0.495618      0.346282      0.514644   \n",
       "min    1.072986e+08      7.000000      0.000000      1.000000      1.000000   \n",
       "25%    2.712212e+08     38.900000      0.000000      1.000000      1.000000   \n",
       "50%    2.739284e+08     49.800000      0.000000      1.000000      1.000000   \n",
       "75%    2.746973e+08     70.000000      1.000000      1.000000      1.000000   \n",
       "max    2.750064e+08    811.000000      1.000000      8.000000      6.000000   \n",
       "\n",
       "       with_children/animals  ceiling_height      elevator   price_per_m  \\\n",
       "count           19737.000000    19737.000000  19737.000000  1.973700e+04   \n",
       "mean                0.750975        2.865657      2.003648  8.656385e+04   \n",
       "std                 0.432459        0.230754      0.876833  1.281483e+05   \n",
       "min                 0.000000        1.200000      1.000000  5.000000e+03   \n",
       "25%                 1.000000        2.640000      2.000000  3.999000e+04   \n",
       "50%                 1.000000        2.990000      2.000000  5.000000e+04   \n",
       "75%                 1.000000        2.990000      2.000000  7.500000e+04   \n",
       "max                 1.000000        6.000000     16.000000  3.000000e+06   \n",
       "\n",
       "       prepayment_mounth  \n",
       "count       19737.000000  \n",
       "mean            0.999797  \n",
       "std             0.256057  \n",
       "min             0.000000  \n",
       "25%             1.000000  \n",
       "50%             1.000000  \n",
       "75%             1.000000  \n",
       "max            12.000000  "
      ]
     },
     "execution_count": 389,
     "metadata": {},
     "output_type": "execute_result"
    }
   ],
   "source": []
  },
  {
   "cell_type": "code",
   "execution_count": null,
   "id": "91ee7b66-1e24-4916-bf02-4d8526849039",
   "metadata": {},
   "outputs": [],
   "source": []
  }
 ],
 "metadata": {
  "kernelspec": {
   "display_name": "Python 3 (ipykernel)",
   "language": "python",
   "name": "python3"
  },
  "language_info": {
   "codemirror_mode": {
    "name": "ipython",
    "version": 3
   },
   "file_extension": ".py",
   "mimetype": "text/x-python",
   "name": "python",
   "nbconvert_exporter": "python",
   "pygments_lexer": "ipython3",
   "version": "3.9.13"
  }
 },
 "nbformat": 4,
 "nbformat_minor": 5
}
